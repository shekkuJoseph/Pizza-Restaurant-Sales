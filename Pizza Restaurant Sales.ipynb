{
 "cells": [
  {
   "cell_type": "code",
   "execution_count": 1,
   "id": "885310a3",
   "metadata": {},
   "outputs": [],
   "source": [
    "import pandas as pd\n",
    "import seaborn as sns\n",
    "import matplotlib.pyplot as plt\n",
    "import numpy as np"
   ]
  },
  {
   "cell_type": "code",
   "execution_count": 2,
   "id": "7c2e1438",
   "metadata": {},
   "outputs": [],
   "source": [
    "df = pd.read_excel(\"Data Model - Pizza Sales.xlsx\")"
   ]
  },
  {
   "cell_type": "code",
   "execution_count": 3,
   "id": "84c29cd8",
   "metadata": {},
   "outputs": [
    {
     "data": {
      "text/html": [
       "<div>\n",
       "<style scoped>\n",
       "    .dataframe tbody tr th:only-of-type {\n",
       "        vertical-align: middle;\n",
       "    }\n",
       "\n",
       "    .dataframe tbody tr th {\n",
       "        vertical-align: top;\n",
       "    }\n",
       "\n",
       "    .dataframe thead th {\n",
       "        text-align: right;\n",
       "    }\n",
       "</style>\n",
       "<table border=\"1\" class=\"dataframe\">\n",
       "  <thead>\n",
       "    <tr style=\"text-align: right;\">\n",
       "      <th></th>\n",
       "      <th>order_details_id</th>\n",
       "      <th>order_id</th>\n",
       "      <th>pizza_id</th>\n",
       "      <th>quantity</th>\n",
       "      <th>order_date</th>\n",
       "      <th>order_time</th>\n",
       "      <th>unit_price</th>\n",
       "      <th>total_price</th>\n",
       "      <th>pizza_size</th>\n",
       "      <th>pizza_category</th>\n",
       "      <th>pizza_ingredients</th>\n",
       "      <th>pizza_name</th>\n",
       "    </tr>\n",
       "  </thead>\n",
       "  <tbody>\n",
       "    <tr>\n",
       "      <th>0</th>\n",
       "      <td>1</td>\n",
       "      <td>1</td>\n",
       "      <td>hawaiian_m</td>\n",
       "      <td>1</td>\n",
       "      <td>2015-01-01</td>\n",
       "      <td>11:38:36</td>\n",
       "      <td>13.25</td>\n",
       "      <td>13.25</td>\n",
       "      <td>M</td>\n",
       "      <td>Classic</td>\n",
       "      <td>Sliced Ham, Pineapple, Mozzarella Cheese</td>\n",
       "      <td>The Hawaiian Pizza</td>\n",
       "    </tr>\n",
       "    <tr>\n",
       "      <th>1</th>\n",
       "      <td>2</td>\n",
       "      <td>2</td>\n",
       "      <td>classic_dlx_m</td>\n",
       "      <td>1</td>\n",
       "      <td>2015-01-01</td>\n",
       "      <td>11:57:40</td>\n",
       "      <td>16.00</td>\n",
       "      <td>16.00</td>\n",
       "      <td>M</td>\n",
       "      <td>Classic</td>\n",
       "      <td>Pepperoni, Mushrooms, Red Onions, Red Peppers,...</td>\n",
       "      <td>The Classic Deluxe Pizza</td>\n",
       "    </tr>\n",
       "    <tr>\n",
       "      <th>2</th>\n",
       "      <td>3</td>\n",
       "      <td>2</td>\n",
       "      <td>five_cheese_l</td>\n",
       "      <td>1</td>\n",
       "      <td>2015-01-01</td>\n",
       "      <td>11:57:40</td>\n",
       "      <td>18.50</td>\n",
       "      <td>18.50</td>\n",
       "      <td>L</td>\n",
       "      <td>Veggie</td>\n",
       "      <td>Mozzarella Cheese, Provolone Cheese, Smoked Go...</td>\n",
       "      <td>The Five Cheese Pizza</td>\n",
       "    </tr>\n",
       "    <tr>\n",
       "      <th>3</th>\n",
       "      <td>4</td>\n",
       "      <td>2</td>\n",
       "      <td>ital_supr_l</td>\n",
       "      <td>1</td>\n",
       "      <td>2015-01-01</td>\n",
       "      <td>11:57:40</td>\n",
       "      <td>20.75</td>\n",
       "      <td>20.75</td>\n",
       "      <td>L</td>\n",
       "      <td>Supreme</td>\n",
       "      <td>Calabrese Salami, Capocollo, Tomatoes, Red Oni...</td>\n",
       "      <td>The Italian Supreme Pizza</td>\n",
       "    </tr>\n",
       "    <tr>\n",
       "      <th>4</th>\n",
       "      <td>5</td>\n",
       "      <td>2</td>\n",
       "      <td>mexicana_m</td>\n",
       "      <td>1</td>\n",
       "      <td>2015-01-01</td>\n",
       "      <td>11:57:40</td>\n",
       "      <td>16.00</td>\n",
       "      <td>16.00</td>\n",
       "      <td>M</td>\n",
       "      <td>Veggie</td>\n",
       "      <td>Tomatoes, Red Peppers, Jalapeno Peppers, Red O...</td>\n",
       "      <td>The Mexicana Pizza</td>\n",
       "    </tr>\n",
       "  </tbody>\n",
       "</table>\n",
       "</div>"
      ],
      "text/plain": [
       "   order_details_id  order_id       pizza_id  quantity order_date order_time  \\\n",
       "0                 1         1     hawaiian_m         1 2015-01-01   11:38:36   \n",
       "1                 2         2  classic_dlx_m         1 2015-01-01   11:57:40   \n",
       "2                 3         2  five_cheese_l         1 2015-01-01   11:57:40   \n",
       "3                 4         2    ital_supr_l         1 2015-01-01   11:57:40   \n",
       "4                 5         2     mexicana_m         1 2015-01-01   11:57:40   \n",
       "\n",
       "   unit_price  total_price pizza_size pizza_category  \\\n",
       "0       13.25        13.25          M        Classic   \n",
       "1       16.00        16.00          M        Classic   \n",
       "2       18.50        18.50          L         Veggie   \n",
       "3       20.75        20.75          L        Supreme   \n",
       "4       16.00        16.00          M         Veggie   \n",
       "\n",
       "                                   pizza_ingredients  \\\n",
       "0           Sliced Ham, Pineapple, Mozzarella Cheese   \n",
       "1  Pepperoni, Mushrooms, Red Onions, Red Peppers,...   \n",
       "2  Mozzarella Cheese, Provolone Cheese, Smoked Go...   \n",
       "3  Calabrese Salami, Capocollo, Tomatoes, Red Oni...   \n",
       "4  Tomatoes, Red Peppers, Jalapeno Peppers, Red O...   \n",
       "\n",
       "                  pizza_name  \n",
       "0         The Hawaiian Pizza  \n",
       "1   The Classic Deluxe Pizza  \n",
       "2      The Five Cheese Pizza  \n",
       "3  The Italian Supreme Pizza  \n",
       "4         The Mexicana Pizza  "
      ]
     },
     "execution_count": 3,
     "metadata": {},
     "output_type": "execute_result"
    }
   ],
   "source": [
    "df.head(5)"
   ]
  },
  {
   "cell_type": "code",
   "execution_count": 4,
   "id": "f1248573",
   "metadata": {},
   "outputs": [
    {
     "name": "stdout",
     "output_type": "stream",
     "text": [
      "<class 'pandas.core.frame.DataFrame'>\n",
      "RangeIndex: 48620 entries, 0 to 48619\n",
      "Data columns (total 12 columns):\n",
      " #   Column             Non-Null Count  Dtype         \n",
      "---  ------             --------------  -----         \n",
      " 0   order_details_id   48620 non-null  int64         \n",
      " 1   order_id           48620 non-null  int64         \n",
      " 2   pizza_id           48620 non-null  object        \n",
      " 3   quantity           48620 non-null  int64         \n",
      " 4   order_date         48620 non-null  datetime64[ns]\n",
      " 5   order_time         48620 non-null  object        \n",
      " 6   unit_price         48620 non-null  float64       \n",
      " 7   total_price        48620 non-null  float64       \n",
      " 8   pizza_size         48620 non-null  object        \n",
      " 9   pizza_category     48620 non-null  object        \n",
      " 10  pizza_ingredients  48620 non-null  object        \n",
      " 11  pizza_name         48620 non-null  object        \n",
      "dtypes: datetime64[ns](1), float64(2), int64(3), object(6)\n",
      "memory usage: 4.5+ MB\n"
     ]
    }
   ],
   "source": [
    "df.info()"
   ]
  },
  {
   "cell_type": "code",
   "execution_count": 13,
   "id": "6b7cdfa2",
   "metadata": {},
   "outputs": [
    {
     "data": {
      "text/plain": [
       "order_details_id     0\n",
       "order_id             0\n",
       "pizza_id             0\n",
       "quantity             0\n",
       "order_date           0\n",
       "order_time           0\n",
       "unit_price           0\n",
       "total_price          0\n",
       "pizza_size           0\n",
       "pizza_category       0\n",
       "pizza_ingredients    0\n",
       "pizza_name           0\n",
       "month                0\n",
       "weekday              0\n",
       "year                 0\n",
       "dtype: int64"
      ]
     },
     "execution_count": 13,
     "metadata": {},
     "output_type": "execute_result"
    }
   ],
   "source": [
    "df.isna().sum()"
   ]
  },
  {
   "cell_type": "markdown",
   "id": "489a4bd9",
   "metadata": {},
   "source": [
    "# Most popular hours / weekdays"
   ]
  },
  {
   "cell_type": "code",
   "execution_count": 14,
   "id": "be1c8bf9",
   "metadata": {},
   "outputs": [],
   "source": [
    "df['month'] = df['order_date'].dt.month"
   ]
  },
  {
   "cell_type": "code",
   "execution_count": 15,
   "id": "35956a9c",
   "metadata": {},
   "outputs": [
    {
     "data": {
      "text/plain": [
       "7     4301\n",
       "5     4239\n",
       "3     4186\n",
       "11    4185\n",
       "1     4156\n",
       "8     4094\n",
       "4     4067\n",
       "6     4025\n",
       "2     3892\n",
       "12    3859\n",
       "9     3819\n",
       "10    3797\n",
       "Name: month, dtype: int64"
      ]
     },
     "execution_count": 15,
     "metadata": {},
     "output_type": "execute_result"
    }
   ],
   "source": [
    "df['month'].value_counts()"
   ]
  },
  {
   "cell_type": "code",
   "execution_count": 28,
   "id": "9ec27ba2",
   "metadata": {},
   "outputs": [],
   "source": [
    "df['weekday'] = df['order_date'].dt.dayofweek"
   ]
  },
  {
   "cell_type": "code",
   "execution_count": 29,
   "id": "d8de4238",
   "metadata": {},
   "outputs": [
    {
     "data": {
      "text/plain": [
       "4    8106\n",
       "5    7355\n",
       "3    7323\n",
       "2    6797\n",
       "1    6753\n",
       "0    6369\n",
       "6    5917\n",
       "Name: weekday, dtype: int64"
      ]
     },
     "execution_count": 29,
     "metadata": {},
     "output_type": "execute_result"
    }
   ],
   "source": [
    "df['weekday'].value_counts()"
   ]
  },
  {
   "cell_type": "code",
   "execution_count": 30,
   "id": "8e5d1756",
   "metadata": {},
   "outputs": [
    {
     "data": {
      "text/plain": [
       "0        2015\n",
       "1        2015\n",
       "2        2015\n",
       "3        2015\n",
       "4        2015\n",
       "         ... \n",
       "48615    2015\n",
       "48616    2015\n",
       "48617    2015\n",
       "48618    2015\n",
       "48619    2015\n",
       "Name: year, Length: 48620, dtype: int64"
      ]
     },
     "execution_count": 30,
     "metadata": {},
     "output_type": "execute_result"
    }
   ],
   "source": [
    "df['year'] = df['order_date'].dt.year\n",
    "df['year']"
   ]
  },
  {
   "cell_type": "code",
   "execution_count": 31,
   "id": "c7723785",
   "metadata": {},
   "outputs": [],
   "source": [
    "def day_of_week(x):\n",
    "    weekdays = ['Mon','Tue','Wed','Thu','Fri','Sat','Sun']\n",
    "    if 0 <= x <= 6:\n",
    "        return weekdays[x]\n",
    "    \n",
    "df['weekday'] = df['weekday'].apply(day_of_week)"
   ]
  },
  {
   "cell_type": "code",
   "execution_count": 32,
   "id": "7e749f02",
   "metadata": {},
   "outputs": [
    {
     "data": {
      "text/plain": [
       "Fri    8106\n",
       "Sat    7355\n",
       "Thu    7323\n",
       "Wed    6797\n",
       "Tue    6753\n",
       "Mon    6369\n",
       "Sun    5917\n",
       "Name: weekday, dtype: int64"
      ]
     },
     "execution_count": 32,
     "metadata": {},
     "output_type": "execute_result"
    }
   ],
   "source": [
    "df['weekday'].value_counts()"
   ]
  },
  {
   "cell_type": "code",
   "execution_count": 33,
   "id": "ac7ef1df",
   "metadata": {},
   "outputs": [],
   "source": [
    "df['order_time'] = df['order_time'].astype(str)\n",
    "df['hour'] = df['order_time'].apply(lambda x:x.split(':')[0])"
   ]
  },
  {
   "cell_type": "code",
   "execution_count": 34,
   "id": "d0ebc329",
   "metadata": {},
   "outputs": [
    {
     "data": {
      "text/html": [
       "<div>\n",
       "<style scoped>\n",
       "    .dataframe tbody tr th:only-of-type {\n",
       "        vertical-align: middle;\n",
       "    }\n",
       "\n",
       "    .dataframe tbody tr th {\n",
       "        vertical-align: top;\n",
       "    }\n",
       "\n",
       "    .dataframe thead th {\n",
       "        text-align: right;\n",
       "    }\n",
       "</style>\n",
       "<table border=\"1\" class=\"dataframe\">\n",
       "  <thead>\n",
       "    <tr style=\"text-align: right;\">\n",
       "      <th></th>\n",
       "      <th>order_time</th>\n",
       "      <th>hour</th>\n",
       "    </tr>\n",
       "  </thead>\n",
       "  <tbody>\n",
       "    <tr>\n",
       "      <th>0</th>\n",
       "      <td>11:38:36</td>\n",
       "      <td>11</td>\n",
       "    </tr>\n",
       "    <tr>\n",
       "      <th>1</th>\n",
       "      <td>11:57:40</td>\n",
       "      <td>11</td>\n",
       "    </tr>\n",
       "    <tr>\n",
       "      <th>2</th>\n",
       "      <td>11:57:40</td>\n",
       "      <td>11</td>\n",
       "    </tr>\n",
       "    <tr>\n",
       "      <th>3</th>\n",
       "      <td>11:57:40</td>\n",
       "      <td>11</td>\n",
       "    </tr>\n",
       "    <tr>\n",
       "      <th>4</th>\n",
       "      <td>11:57:40</td>\n",
       "      <td>11</td>\n",
       "    </tr>\n",
       "    <tr>\n",
       "      <th>...</th>\n",
       "      <td>...</td>\n",
       "      <td>...</td>\n",
       "    </tr>\n",
       "    <tr>\n",
       "      <th>48615</th>\n",
       "      <td>21:23:10</td>\n",
       "      <td>21</td>\n",
       "    </tr>\n",
       "    <tr>\n",
       "      <th>48616</th>\n",
       "      <td>21:23:10</td>\n",
       "      <td>21</td>\n",
       "    </tr>\n",
       "    <tr>\n",
       "      <th>48617</th>\n",
       "      <td>21:23:10</td>\n",
       "      <td>21</td>\n",
       "    </tr>\n",
       "    <tr>\n",
       "      <th>48618</th>\n",
       "      <td>22:09:54</td>\n",
       "      <td>22</td>\n",
       "    </tr>\n",
       "    <tr>\n",
       "      <th>48619</th>\n",
       "      <td>23:02:05</td>\n",
       "      <td>23</td>\n",
       "    </tr>\n",
       "  </tbody>\n",
       "</table>\n",
       "<p>48620 rows × 2 columns</p>\n",
       "</div>"
      ],
      "text/plain": [
       "      order_time hour\n",
       "0       11:38:36   11\n",
       "1       11:57:40   11\n",
       "2       11:57:40   11\n",
       "3       11:57:40   11\n",
       "4       11:57:40   11\n",
       "...          ...  ...\n",
       "48615   21:23:10   21\n",
       "48616   21:23:10   21\n",
       "48617   21:23:10   21\n",
       "48618   22:09:54   22\n",
       "48619   23:02:05   23\n",
       "\n",
       "[48620 rows x 2 columns]"
      ]
     },
     "execution_count": 34,
     "metadata": {},
     "output_type": "execute_result"
    }
   ],
   "source": [
    "df[['order_time','hour']]"
   ]
  },
  {
   "cell_type": "code",
   "execution_count": 35,
   "id": "9c092147",
   "metadata": {},
   "outputs": [],
   "source": [
    "heatmap = df.groupby(['weekday','hour'])['quantity'].sum().reset_index(name='pizzas')"
   ]
  },
  {
   "cell_type": "code",
   "execution_count": 36,
   "id": "d04b2ab2",
   "metadata": {},
   "outputs": [],
   "source": [
    "pivot = heatmap.pivot(index = 'weekday',columns = 'hour', values = 'pizzas')"
   ]
  },
  {
   "cell_type": "code",
   "execution_count": 37,
   "id": "f480883b",
   "metadata": {},
   "outputs": [
    {
     "data": {
      "text/plain": [
       "<AxesSubplot:xlabel='hour', ylabel='weekday'>"
      ]
     },
     "execution_count": 37,
     "metadata": {},
     "output_type": "execute_result"
    },
    {
     "data": {
      "image/png": "[encoded data removed]",
      "text/plain": [
       "<Figure size 720x432 with 2 Axes>"
      ]
     },
     "metadata": {
      "needs_background": "light"
     },
     "output_type": "display_data"
    }
   ],
   "source": [
    "f,ax = plt.subplots(figsize =(10,6))\n",
    "sns.heatmap(pivot, ax = ax,cmap = 'Blues',linewidth = .5)"
   ]
  },
  {
   "cell_type": "markdown",
   "id": "a5a8808c",
   "metadata": {},
   "source": [
    "# Most popular Months"
   ]
  },
  {
   "cell_type": "code",
   "execution_count": 38,
   "id": "23a6e451",
   "metadata": {},
   "outputs": [],
   "source": [
    "def month_of_year(x):\n",
    "    weekdays = ['Jan','Feb','Mar','Apr','May','Jun','Jul','Aug','Sep','Oct','Nov','Dec']\n",
    "    if 0 <= x-1 <= 12:\n",
    "        return weekdays[x-1]\n",
    "    \n",
    "df['month'] = df['month'].apply(month_of_year)"
   ]
  },
  {
   "cell_type": "code",
   "execution_count": 39,
   "id": "90f2ce52",
   "metadata": {},
   "outputs": [
    {
     "data": {
      "text/plain": [
       "Jul    4301\n",
       "May    4239\n",
       "Mar    4186\n",
       "Nov    4185\n",
       "Jan    4156\n",
       "Aug    4094\n",
       "Apr    4067\n",
       "Jun    4025\n",
       "Feb    3892\n",
       "Dec    3859\n",
       "Sep    3819\n",
       "Oct    3797\n",
       "Name: month, dtype: int64"
      ]
     },
     "execution_count": 39,
     "metadata": {},
     "output_type": "execute_result"
    }
   ],
   "source": [
    "df['month'].value_counts()"
   ]
  },
  {
   "cell_type": "code",
   "execution_count": 44,
   "id": "cff8ad8c",
   "metadata": {},
   "outputs": [],
   "source": [
    "heatmap = df.groupby(['month','year'])['quantity'].sum().reset_index(name = \"Monthly\")"
   ]
  },
  {
   "cell_type": "code",
   "execution_count": 45,
   "id": "223b7068",
   "metadata": {},
   "outputs": [],
   "source": [
    "pivot1 = heatmap.pivot(index = 'month',columns = 'year', values = 'Monthly'\n",
    "                       )"
   ]
  },
  {
   "cell_type": "code",
   "execution_count": 47,
   "id": "bcbe8a68",
   "metadata": {},
   "outputs": [
    {
     "data": {
      "text/plain": [
       "<AxesSubplot:xlabel='year', ylabel='month'>"
      ]
     },
     "execution_count": 47,
     "metadata": {},
     "output_type": "execute_result"
    },
    {
     "data": {
      "image/png": "[encoded data removed]",
      "text/plain": [
       "<Figure size 720x432 with 1 Axes>"
      ]
     },
     "metadata": {
      "needs_background": "light"
     },
     "output_type": "display_data"
    }
   ],
   "source": [
    "f,ax = plt.subplots(figsize =(10,6))\n",
    "sns.heatmap(pivot1, ax = ax,cmap = 'Blues',linewidth = .5,cbar = False)"
   ]
  },
  {
   "cell_type": "code",
   "execution_count": 48,
   "id": "bb5a8f49",
   "metadata": {},
   "outputs": [
    {
     "data": {
      "text/plain": [
       "{'The Barbecue Chicken Pizza',\n",
       " 'The Big Meat Pizza',\n",
       " 'The Brie Carre Pizza',\n",
       " 'The Calabrese Pizza',\n",
       " 'The California Chicken Pizza',\n",
       " 'The Chicken Alfredo Pizza',\n",
       " 'The Chicken Pesto Pizza',\n",
       " 'The Classic Deluxe Pizza',\n",
       " 'The Five Cheese Pizza',\n",
       " 'The Four Cheese Pizza',\n",
       " 'The Greek Pizza',\n",
       " 'The Green Garden Pizza',\n",
       " 'The Hawaiian Pizza',\n",
       " 'The Italian Capocollo Pizza',\n",
       " 'The Italian Supreme Pizza',\n",
       " 'The Italian Vegetables Pizza',\n",
       " 'The Mediterranean Pizza',\n",
       " 'The Mexicana Pizza',\n",
       " 'The Napolitana Pizza',\n",
       " 'The Pepper Salami Pizza',\n",
       " 'The Pepperoni Pizza',\n",
       " 'The Pepperoni, Mushroom, and Peppers Pizza',\n",
       " 'The Prosciutto and Arugula Pizza',\n",
       " 'The Sicilian Pizza',\n",
       " 'The Soppressata Pizza',\n",
       " 'The Southwest Chicken Pizza',\n",
       " 'The Spicy Italian Pizza',\n",
       " 'The Spinach Pesto Pizza',\n",
       " 'The Spinach Supreme Pizza',\n",
       " 'The Spinach and Feta Pizza',\n",
       " 'The Thai Chicken Pizza',\n",
       " 'The Vegetables + Vegetables Pizza'}"
      ]
     },
     "execution_count": 48,
     "metadata": {},
     "output_type": "execute_result"
    }
   ],
   "source": [
    "set(df['pizza_name'])"
   ]
  },
  {
   "cell_type": "code",
   "execution_count": 49,
   "id": "b499499c",
   "metadata": {},
   "outputs": [],
   "source": [
    "df['pizza_name'] = df['pizza_name'].apply(lambda x: x.split('The ')[1])\n",
    "df['pizza_name'] = df['pizza_name'].apply(lambda x: x.split(' Pizza')[0])"
   ]
  },
  {
   "cell_type": "code",
   "execution_count": null,
   "id": "acdae9e9",
   "metadata": {},
   "outputs": [],
   "source": [
    "set(df['pizza_name'])"
   ]
  },
  {
   "cell_type": "code",
   "execution_count": null,
   "id": "94a20973",
   "metadata": {},
   "outputs": [],
   "source": [
    "popular_pizzas = df.groupby(['pizza_name','pizza_size'])['quantity'].sum().reset_index(name = 'pizza count')"
   ]
  },
  {
   "cell_type": "code",
   "execution_count": null,
   "id": "b1b004d3",
   "metadata": {},
   "outputs": [],
   "source": [
    "pivot = popular_pizzas.pivot(index = 'pizza_name',columns = 'pizza_size', values = 'pizza count')"
   ]
  },
  {
   "cell_type": "code",
   "execution_count": null,
   "id": "0cb1219f",
   "metadata": {},
   "outputs": [],
   "source": [
    "pivot"
   ]
  },
  {
   "cell_type": "code",
   "execution_count": null,
   "id": "3e9f5aff",
   "metadata": {},
   "outputs": [],
   "source": [
    "f,ax = plt.subplots(figsize =(10,12))\n",
    "sns.heatmap(pivot, ax = ax,cmap = 'Blues',linewidth = .5, cbar = False,linecolor = 'black',\n",
    "           annot = True,fmt = '.0f')"
   ]
  },
  {
   "cell_type": "code",
   "execution_count": null,
   "id": "d8c613d2",
   "metadata": {},
   "outputs": [],
   "source": [
    "f,ax = plt.subplots(figsize =(10,12))\n",
    "sns.heatmap(pivot.apply(lambda x: x/x.sum()), ax = ax,cmap = 'Blues',linewidth = .5, cbar = False,linecolor = 'black',\n",
    "           annot = True)"
   ]
  },
  {
   "cell_type": "code",
   "execution_count": null,
   "id": "175d6132",
   "metadata": {},
   "outputs": [],
   "source": [
    "popular_pizzas = popular_pizzas[popular_pizzas['pizza_size'].isin(['S','M','L'])]"
   ]
  },
  {
   "cell_type": "code",
   "execution_count": null,
   "id": "77e4999d",
   "metadata": {},
   "outputs": [],
   "source": [
    "pivot = popular_pizzas.pivot(index = 'pizza_name',columns = 'pizza_size', values = 'pizza count')"
   ]
  },
  {
   "cell_type": "code",
   "execution_count": null,
   "id": "486b87bc",
   "metadata": {},
   "outputs": [],
   "source": [
    "f,ax = plt.subplots(figsize =(10,12))\n",
    "sns.heatmap(pivot.apply(lambda x: x/x.sum()), ax = ax,cmap = 'Blues',linewidth = .5, cbar = False,linecolor = 'black',\n",
    "           annot = True)"
   ]
  },
  {
   "cell_type": "markdown",
   "id": "e090d6d1",
   "metadata": {},
   "source": [
    "# 3. Most popular ingredients "
   ]
  },
  {
   "cell_type": "code",
   "execution_count": null,
   "id": "b2d251eb",
   "metadata": {},
   "outputs": [],
   "source": [
    "df['pizza_ingredients'] = df['pizza_ingredients'].apply(lambda x:x.split(','))"
   ]
  },
  {
   "cell_type": "code",
   "execution_count": null,
   "id": "a0fd1638",
   "metadata": {},
   "outputs": [],
   "source": [
    "df['pizza_ingredients']"
   ]
  },
  {
   "cell_type": "code",
   "execution_count": null,
   "id": "0998d2aa",
   "metadata": {},
   "outputs": [],
   "source": [
    "ingredient_dict = {}\n",
    "for pizza in df['pizza_ingredients']:\n",
    "    for ingredient in pizza:\n",
    "        if ingredient in ingredient_dict:\n",
    "            ingredient_dict[ingredient]+=1\n",
    "        else:\n",
    "            ingredient_dict[ingredient] = 1"
   ]
  },
  {
   "cell_type": "code",
   "execution_count": null,
   "id": "0969fcd7",
   "metadata": {},
   "outputs": [],
   "source": [
    "sorted(ingredient_dict.items(),key = lambda item: item[1],reverse = True)[:10]"
   ]
  },
  {
   "cell_type": "markdown",
   "id": "ad74255c",
   "metadata": {},
   "source": [
    "# 4.Highest revenue pizzas"
   ]
  },
  {
   "cell_type": "code",
   "execution_count": null,
   "id": "50fe3f9d",
   "metadata": {},
   "outputs": [],
   "source": [
    "df.groupby('pizza_name')['total_price'].sum().sort_values(ascending = False).head(10)"
   ]
  },
  {
   "cell_type": "code",
   "execution_count": null,
   "id": "a3fbf205",
   "metadata": {},
   "outputs": [],
   "source": [
    "df.groupby('pizza_id')['total_price'].sum().sort_values(ascending = False).head(10)"
   ]
  },
  {
   "cell_type": "markdown",
   "id": "c371f535",
   "metadata": {},
   "source": [
    "# 5.All about orders"
   ]
  },
  {
   "cell_type": "code",
   "execution_count": null,
   "id": "0375ef10",
   "metadata": {},
   "outputs": [],
   "source": [
    "df['quantity'].sum() / df['order_id'].nunique()"
   ]
  },
  {
   "cell_type": "code",
   "execution_count": null,
   "id": "3d95259f",
   "metadata": {},
   "outputs": [],
   "source": [
    "df['total_price'].sum() / df['order_id'].nunique()"
   ]
  },
  {
   "cell_type": "code",
   "execution_count": null,
   "id": "6f8ce446",
   "metadata": {},
   "outputs": [],
   "source": [
    "df.groupby('order_id')[['quantity','total_price']].sum().sort_values('quantity',ascending = False).head(10)"
   ]
  },
  {
   "cell_type": "code",
   "execution_count": null,
   "id": "a5347407",
   "metadata": {},
   "outputs": [],
   "source": [
    "orders = df.groupby('order_id')['quantity'].sum().value_counts().reset_index(name = 'quantity').sort_values('quantity')\n",
    "orders"
   ]
  },
  {
   "cell_type": "code",
   "execution_count": null,
   "id": "742152fe",
   "metadata": {},
   "outputs": [],
   "source": [
    "sns.barplot(x = 'quantity',y = 'index',data = orders,log = True)"
   ]
  },
  {
   "cell_type": "markdown",
   "id": "b2b01812",
   "metadata": {},
   "source": [
    "# 2-pizza combos"
   ]
  },
  {
   "cell_type": "code",
   "execution_count": null,
   "id": "50358634",
   "metadata": {},
   "outputs": [],
   "source": [
    "df['full_order'] = df.groupby('order_id')['pizza_name'].transform(lambda x:'-'.join(x))"
   ]
  },
  {
   "cell_type": "code",
   "execution_count": null,
   "id": "2f8dc8b7",
   "metadata": {},
   "outputs": [],
   "source": [
    "df['full_order']"
   ]
  },
  {
   "cell_type": "code",
   "execution_count": null,
   "id": "956deb0c",
   "metadata": {},
   "outputs": [],
   "source": [
    "combos = df[['order_id','full_order']].drop_duplicates()"
   ]
  },
  {
   "cell_type": "code",
   "execution_count": null,
   "id": "43f9b6af",
   "metadata": {},
   "outputs": [],
   "source": [
    "combos"
   ]
  },
  {
   "cell_type": "code",
   "execution_count": null,
   "id": "780a1b87",
   "metadata": {},
   "outputs": [],
   "source": [
    "from itertools import combinations\n",
    "from collections import Counter"
   ]
  },
  {
   "cell_type": "code",
   "execution_count": null,
   "id": "06f057fc",
   "metadata": {},
   "outputs": [],
   "source": [
    "count = Counter()\n",
    "for row in combos['full_order']:\n",
    "    row_list = row.split('-')\n",
    "    count.update(Counter(combinations(row_list,2)))"
   ]
  },
  {
   "cell_type": "code",
   "execution_count": null,
   "id": "9a777666",
   "metadata": {},
   "outputs": [],
   "source": [
    "print(count)"
   ]
  }
 ],
 "metadata": {
  "kernelspec": {
   "display_name": "Python 3",
   "language": "python",
   "name": "python3"
  },
  "language_info": {
   "codemirror_mode": {
    "name": "ipython",
    "version": 3
   },
   "file_extension": ".py",
   "mimetype": "text/x-python",
   "name": "python",
   "nbconvert_exporter": "python",
   "pygments_lexer": "ipython3",
   "version": "3.8.8"
  }
 },
 "nbformat": 4,
 "nbformat_minor": 5
}
